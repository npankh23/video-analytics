{
 "cells": [
  {
   "cell_type": "code",
   "execution_count": 1,
   "metadata": {},
   "outputs": [],
   "source": [
    "from scipy.spatial import distance"
   ]
  },
  {
   "cell_type": "code",
   "execution_count": 2,
   "metadata": {},
   "outputs": [],
   "source": [
    "frames = [[(520,122), (211,211),(910,56)], \n",
    "          [(522,110), (921,95)], \n",
    "          [(200,196),(890,66)], \n",
    "          [(910,56),(56,502)], \n",
    "          [(919,57),(66,508)], \n",
    "          [(920,46),(59,512)],\n",
    "          [(920,46),(59,512),(520,122)]]"
   ]
  },
  {
   "cell_type": "code",
   "execution_count": 198,
   "metadata": {},
   "outputs": [],
   "source": [
    "def for_first_frame(boxes,id_details, frame):\n",
    "    '''\n",
    "    This function assigns ids to all detected number of bounding boxes found in first frame of the video.\n",
    "    takes input of location of the bounding box.\n",
    "    returns dictionary in which key is centroid of the bounding box and value is assigned id.\n",
    "    '''\n",
    "    temp_id = 0\n",
    "    id_list = {}\n",
    "    for box in boxes:\n",
    "        centroid = str(box[0]) + \",\" + str(box[1])\n",
    "        id_list[centroid] = temp_id\n",
    "        id_details.append({\"id\":temp_id, \"last_seen_on_frame\": frame, \"previous_centroid\": centroid})\n",
    "        temp_id += 1\n",
    "    return id_list, temp_id, id_details"
   ]
  },
  {
   "cell_type": "code",
   "execution_count": 199,
   "metadata": {},
   "outputs": [],
   "source": [
    "def find_least_distance(centroid, id_, box, distance_to_all_points, least_distance, temp_distance_keeper, new_ids, id_details, frame):\n",
    "    '''\n",
    "    This function is responsible for finding nearest previous centroid of the current bounding box's centroid.\n",
    "    Taks input as \n",
    "    centroid                 | string : centroids of the previous bounding boxes\n",
    "    id_                      | int : id assigned to previous centroid\n",
    "    box                      | tuple : location of current bounding box\n",
    "    distance_to_all_points   | list of distance calculated to all the previous centroids\n",
    "    least_distance           | int: least distance among previously calculated distances with all the previous centroids for the current bounding box\n",
    "    temp_distance_keeper     | list of dictionalry which holds id, distance, current_centroids, previous_centroid \n",
    "                             | (This will be helpful when we will have more that one points having assigned same id)\n",
    "    new_ids                  | List of assigned ids for each bounding boxes till now.\n",
    "    '''\n",
    "    \n",
    "    centroids = centroid.split(',')\n",
    "    pc1 = float(centroids[0])\n",
    "    pc2 = float(centroids[1])\n",
    "    d = distance.euclidean((pc1, pc2),(box[0],box[1]))\n",
    "    distance_to_all_points.append(d)\n",
    "    key_val = str(box[0]) + \",\" + str(box[1])\n",
    "    if d<least_distance:\n",
    "        least_distance = d\n",
    "        tmp_assigned_id = id_\n",
    "        same_id_found = 0\n",
    "        for tmp_dist in temp_distance_keeper:\n",
    "            '''\n",
    "            This checks if id is already assigned before, if id is assigned then check the distance of the,\n",
    "            2 centroids and chooses the point which have least distance.\n",
    "            '''\n",
    "            if tmp_assigned_id == tmp_dist[\"id\"]:\n",
    "                same_id_found = 1\n",
    "                if least_distance < tmp_dist[\"distance\"]:\n",
    "                    tmp_dist[\"distance\"] = least_distance\n",
    "                    tmp_dist[\"current_point\"] = key_val\n",
    "                    new_ids[key_val] = tmp_dist[\"id\"]\n",
    "        if not same_id_found:\n",
    "            temp_distance_keeper.append({\"id\":tmp_assigned_id, \"distance\":least_distance, \"current_point\":key_val, \" previous_point \":centroid})\n",
    "            new_ids[key_val] = tmp_assigned_id\n",
    "\n",
    "    return new_ids, temp_distance_keeper, distance_to_all_points, least_distance, id_details"
   ]
  },
  {
   "cell_type": "code",
   "execution_count": 205,
   "metadata": {},
   "outputs": [],
   "source": [
    "def find_nearest_point(boxes, previous_centroids, last_used_id, id_details, frame):\n",
    "    Ids = previous_centroids[\"id\"]\n",
    "    previous_ids = previous_centroids[\"id\"].values()\n",
    "    temp_distance_keeper = []\n",
    "    new_ids = {}\n",
    "    \n",
    "    for box in boxes:\n",
    "        distance_to_all_points = []\n",
    "        least_distance = 100000000000000\n",
    "        tmp_assigned_id = None\n",
    "        print(\"\\n\")\n",
    "        key_val = str(box[0]) + \",\" + str(box[1])\n",
    "        for centroid, id_ in Ids.items():\n",
    "            new_ids, temp_distance_keeper, distance_to_all_points, least_distance, id_details = find_least_distance(centroid, id_, box, distance_to_all_points, least_distance, temp_distance_keeper, new_ids, id_details, frame)\n",
    "        new_ids, last_used_id, id_details = register_new_id(distance_to_all_points, new_ids, last_used_id, key_val, id_details, frame)\n",
    "    \n",
    "    update_id_details(id_details, new_ids, frame)\n",
    "    return new_ids, last_used_id, id_details"
   ]
  },
  {
   "cell_type": "code",
   "execution_count": 210,
   "metadata": {},
   "outputs": [],
   "source": [
    "def update_id_details(id_details, new_ids, frame):\n",
    "    for centroid, id_ in new_ids.items():\n",
    "        id_details[id_][\"previous_centroid\"] = centroid\n",
    "        id_details[id_][\"last_seen_on_frame\"] = frame\n",
    "    return id_details"
   ]
  },
  {
   "cell_type": "code",
   "execution_count": 211,
   "metadata": {},
   "outputs": [],
   "source": [
    "def register_new_id(distance_to_all_points, new_ids, last_used_id, centroids, id_details, frame):\n",
    "    \"\"\"\n",
    "    If the centroid is having distancing from all the points greter than some threshold,\n",
    "    then this function will add new ID to that bounding box.\n",
    "    \"\"\"\n",
    "    \n",
    "    all_points = len(distance_to_all_points)\n",
    "    counter_for_adding_new_id = 0\n",
    "    index = 0\n",
    "    for prev_dist in distance_to_all_points:\n",
    "        if prev_dist > 150:\n",
    "            counter_for_adding_new_id += 1\n",
    "        index += 1\n",
    "    if all_points == counter_for_adding_new_id:\n",
    "        fount_fluctuation, new_ids, id_details = check_for_id_fluctualtion(id_details, centroids, new_ids, frame)\n",
    "        if not fount_fluctuation:\n",
    "            new_ids[centroids] = last_used_id\n",
    "            id_details.append({'id': last_used_id, 'last_seen_on_frame': frame, 'previous_centroid': centroids})\n",
    "            last_used_id += 1\n",
    "    \n",
    "    return new_ids, last_used_id, id_details"
   ]
  },
  {
   "cell_type": "code",
   "execution_count": 212,
   "metadata": {},
   "outputs": [],
   "source": [
    "def check_for_id_fluctualtion(id_details, key_val, new_ids, frame):\n",
    "    print(\"Before Adding a new id we have to check for ID fluctuation................\")\n",
    "    #print(\"ID DETAILS - \",id_details)\n",
    "    distances_from_previous_idd_centroids = []\n",
    "    least_distance = 100000000000000\n",
    "    index = 0\n",
    "    for id_d in id_details:\n",
    "        previous_centroids = id_d[\"previous_centroid\"].split(',')\n",
    "        last_seen_frame = id_d[\"last_seen_on_frame\"]\n",
    "        frame_difference = frame - last_seen_frame\n",
    "        prv_c1 = float(previous_centroids[0])\n",
    "        prv_c2 = float(previous_centroids[1])\n",
    "        current_centroid = key_val.split(\",\")\n",
    "        crnt_c1 = float(current_centroid[0])\n",
    "        crnt_c2 = float(current_centroid[1])\n",
    "        d = distance.euclidean((prv_c1, prv_c2),(crnt_c1,crnt_c2))\n",
    "        if d<least_distance and frame_difference < 10:\n",
    "            least_distance = d\n",
    "            temp_assigned_id = id_d[\"id\"]\n",
    "            index_of_assigned_id = index\n",
    "        index += 1\n",
    "    if least_distance > 150:\n",
    "        return False ,new_ids, id_details\n",
    "    \n",
    "    new_ids[key_val] = temp_assigned_id\n",
    "    return True, new_ids, id_details"
   ]
  },
  {
   "cell_type": "code",
   "execution_count": 213,
   "metadata": {
    "scrolled": true
   },
   "outputs": [
    {
     "name": "stdout",
     "output_type": "stream",
     "text": [
      "----- I :  0\n",
      "[{'id': 0, 'last_seen_on_frame': 0, 'previous_centroid': '520,122'}, {'id': 1, 'last_seen_on_frame': 0, 'previous_centroid': '211,211'}, {'id': 2, 'last_seen_on_frame': 0, 'previous_centroid': '910,56'}]\n",
      "[{'frame': 0, 'id': {'520,122': 0, '211,211': 1, '910,56': 2}}]\n",
      "----- I :  1\n",
      "\n",
      "\n",
      "\n",
      "\n",
      "*************\n",
      "Final Id Details :  [{'id': 0, 'last_seen_on_frame': 1, 'previous_centroid': '522,110'}, {'id': 1, 'last_seen_on_frame': 0, 'previous_centroid': '211,211'}, {'id': 2, 'last_seen_on_frame': 1, 'previous_centroid': '921,95'}]\n",
      "\n",
      "[{'frame': 0, 'id': {'520,122': 0, '211,211': 1, '910,56': 2}}, {'frame': 1, 'id': {'522,110': 0, '921,95': 2}}]\n",
      "----- I :  2\n",
      "\n",
      "\n",
      "Before Adding a new id we have to check for ID fluctuation................\n",
      "\n",
      "\n",
      "*************\n",
      "Final Id Details :  [{'id': 0, 'last_seen_on_frame': 1, 'previous_centroid': '522,110'}, {'id': 1, 'last_seen_on_frame': 2, 'previous_centroid': '200,196'}, {'id': 2, 'last_seen_on_frame': 2, 'previous_centroid': '890,66'}]\n",
      "\n",
      "[{'frame': 0, 'id': {'520,122': 0, '211,211': 1, '910,56': 2}}, {'frame': 1, 'id': {'522,110': 0, '921,95': 2}}, {'frame': 2, 'id': {'200,196': 1, '890,66': 2}}]\n",
      "----- I :  3\n",
      "\n",
      "\n",
      "\n",
      "\n",
      "Before Adding a new id we have to check for ID fluctuation................\n",
      "*************\n",
      "Final Id Details :  [{'id': 0, 'last_seen_on_frame': 1, 'previous_centroid': '522,110'}, {'id': 1, 'last_seen_on_frame': 2, 'previous_centroid': '200,196'}, {'id': 2, 'last_seen_on_frame': 3, 'previous_centroid': '910,56'}, {'id': 3, 'last_seen_on_frame': 3, 'previous_centroid': '56,502'}]\n",
      "\n",
      "[{'frame': 0, 'id': {'520,122': 0, '211,211': 1, '910,56': 2}}, {'frame': 1, 'id': {'522,110': 0, '921,95': 2}}, {'frame': 2, 'id': {'200,196': 1, '890,66': 2}}, {'frame': 3, 'id': {'910,56': 2, '56,502': 3}}]\n",
      "----- I :  4\n",
      "\n",
      "\n",
      "\n",
      "\n",
      "*************\n",
      "Final Id Details :  [{'id': 0, 'last_seen_on_frame': 1, 'previous_centroid': '522,110'}, {'id': 1, 'last_seen_on_frame': 2, 'previous_centroid': '200,196'}, {'id': 2, 'last_seen_on_frame': 4, 'previous_centroid': '919,57'}, {'id': 3, 'last_seen_on_frame': 4, 'previous_centroid': '66,508'}]\n",
      "\n",
      "[{'frame': 0, 'id': {'520,122': 0, '211,211': 1, '910,56': 2}}, {'frame': 1, 'id': {'522,110': 0, '921,95': 2}}, {'frame': 2, 'id': {'200,196': 1, '890,66': 2}}, {'frame': 3, 'id': {'910,56': 2, '56,502': 3}}, {'frame': 4, 'id': {'919,57': 2, '66,508': 3}}]\n",
      "----- I :  5\n",
      "\n",
      "\n",
      "\n",
      "\n",
      "*************\n",
      "Final Id Details :  [{'id': 0, 'last_seen_on_frame': 1, 'previous_centroid': '522,110'}, {'id': 1, 'last_seen_on_frame': 2, 'previous_centroid': '200,196'}, {'id': 2, 'last_seen_on_frame': 5, 'previous_centroid': '920,46'}, {'id': 3, 'last_seen_on_frame': 5, 'previous_centroid': '59,512'}]\n",
      "\n",
      "[{'frame': 0, 'id': {'520,122': 0, '211,211': 1, '910,56': 2}}, {'frame': 1, 'id': {'522,110': 0, '921,95': 2}}, {'frame': 2, 'id': {'200,196': 1, '890,66': 2}}, {'frame': 3, 'id': {'910,56': 2, '56,502': 3}}, {'frame': 4, 'id': {'919,57': 2, '66,508': 3}}, {'frame': 5, 'id': {'920,46': 2, '59,512': 3}}]\n",
      "----- I :  6\n",
      "\n",
      "\n",
      "\n",
      "\n",
      "\n",
      "\n",
      "Before Adding a new id we have to check for ID fluctuation................\n",
      "*************\n",
      "Final Id Details :  [{'id': 0, 'last_seen_on_frame': 6, 'previous_centroid': '520,122'}, {'id': 1, 'last_seen_on_frame': 2, 'previous_centroid': '200,196'}, {'id': 2, 'last_seen_on_frame': 6, 'previous_centroid': '920,46'}, {'id': 3, 'last_seen_on_frame': 6, 'previous_centroid': '59,512'}]\n",
      "\n",
      "[{'frame': 0, 'id': {'520,122': 0, '211,211': 1, '910,56': 2}}, {'frame': 1, 'id': {'522,110': 0, '921,95': 2}}, {'frame': 2, 'id': {'200,196': 1, '890,66': 2}}, {'frame': 3, 'id': {'910,56': 2, '56,502': 3}}, {'frame': 4, 'id': {'919,57': 2, '66,508': 3}}, {'frame': 5, 'id': {'920,46': 2, '59,512': 3}}, {'frame': 6, 'id': {'920,46': 2, '59,512': 3, '520,122': 0}}]\n"
     ]
    }
   ],
   "source": [
    "Ids = []\n",
    "id_details = [\n",
    "    #{\"id\":0,\"class\":\"person\",\"last_seen_on_frame\":0, \"previous_identified_centroid\":\"736.8079447746277,259.6186065673828\"},\n",
    "    #{\"id\":1,\"class\":\"person\",\"last_seen_on_frame\":0, \"previous_identified_centroid\":\"656.2119626998901,1055.357551574707\"},\n",
    "]\n",
    "previous_id = 0\n",
    "for i in range(0,7):\n",
    "    print(\"----- I : \",i)\n",
    "    if i == 0:\n",
    "        id_list, previous_id, id_details = for_first_frame(frames[i], id_details, i)\n",
    "        Ids.append({\"frame\":i, \"id\":id_list})\n",
    "        print(id_details)\n",
    "        print(Ids)\n",
    "    else:\n",
    "        id_list, previous_id, id_details = find_nearest_point(frames[i], Ids[i-1], previous_id, id_details, i)\n",
    "        Ids.append({\"frame\":i, \"id\":id_list})\n",
    "        print(\"*************\\nFinal Id Details : \",id_details)\n",
    "        print()\n",
    "        print(Ids)"
   ]
  },
  {
   "cell_type": "code",
   "execution_count": 214,
   "metadata": {
    "collapsed": true
   },
   "outputs": [
    {
     "data": {
      "text/plain": [
       "[{'frame': 0, 'id': {'520,122': 0, '211,211': 1, '910,56': 2}},\n",
       " {'frame': 1, 'id': {'522,110': 0, '921,95': 2}},\n",
       " {'frame': 2, 'id': {'200,196': 1, '890,66': 2}},\n",
       " {'frame': 3, 'id': {'910,56': 2, '56,502': 3}},\n",
       " {'frame': 4, 'id': {'919,57': 2, '66,508': 3}},\n",
       " {'frame': 5, 'id': {'920,46': 2, '59,512': 3}},\n",
       " {'frame': 6, 'id': {'920,46': 2, '59,512': 3, '520,122': 0}}]"
      ]
     },
     "execution_count": 214,
     "metadata": {},
     "output_type": "execute_result"
    }
   ],
   "source": [
    "Ids"
   ]
  },
  {
   "cell_type": "code",
   "execution_count": 184,
   "metadata": {
    "collapsed": true
   },
   "outputs": [
    {
     "data": {
      "text/plain": [
       "[{'id': 0, 'last_seen_on_frame': 6, 'previous_centroid': '920,46'},\n",
       " {'id': 1, 'last_seen_on_frame': 6, 'previous_centroid': '59,512'},\n",
       " {'id': 2, 'last_seen_on_frame': 1, 'previous_centroid': '921,95'},\n",
       " {'id': 3, 'last_seen_on_frame': 3, 'previous_centroid': '56,502'},\n",
       " {'id': 4, 'last_seen_on_frame': 6, 'previous_centroid': '520,122'}]"
      ]
     },
     "execution_count": 184,
     "metadata": {},
     "output_type": "execute_result"
    }
   ],
   "source": [
    "id_details"
   ]
  },
  {
   "cell_type": "raw",
   "metadata": {},
   "source": [
    "[{'frame': 0, 'id': {'520,122': 0, '211,211': 1, '910,56': 2}},\n",
    " {'frame': 1, 'id': {'522,110': 0, '921,95': 2}},\n",
    " {'frame': 2, 'id': {'200,196': 3, '890,66': 2}},\n",
    " {'frame': 3, 'id': {'910,56': 2, '56,502': 4}},\n",
    " {'frame': 4, 'id': {'919,57': 2, '66,508': 4}},\n",
    " {'frame': 5, 'id': {'920,46': 2, '59,512': 4}},\n",
    " {'frame': 6, 'id': {'920,46': 2, '59,512': 4, '520,122': 5}}]"
   ]
  },
  {
   "cell_type": "raw",
   "metadata": {},
   "source": [
    "for box in boxes:\n",
    "    dist = 1000000000000000\n",
    "    for key, val in previous_centroids:\n",
    "        d = distance.euclidean((box),(key))\n",
    "        if d< dist:\n",
    "            dist = d:\n",
    "            id_ = val"
   ]
  }
 ],
 "metadata": {
  "kernelspec": {
   "display_name": "Python 3",
   "language": "python",
   "name": "python3"
  },
  "language_info": {
   "codemirror_mode": {
    "name": "ipython",
    "version": 3
   },
   "file_extension": ".py",
   "mimetype": "text/x-python",
   "name": "python",
   "nbconvert_exporter": "python",
   "pygments_lexer": "ipython3",
   "version": "3.7.4"
  }
 },
 "nbformat": 4,
 "nbformat_minor": 2
}
